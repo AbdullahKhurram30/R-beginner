{
 "cells": [
  {
   "cell_type": "markdown",
   "id": "45fa4989",
   "metadata": {},
   "source": [
    "### Load dataset"
   ]
  },
  {
   "cell_type": "code",
   "execution_count": 1,
   "id": "56e494b3",
   "metadata": {},
   "outputs": [],
   "source": [
    "df<- read.csv(\"https://tinyurl.com/UNpckpdata\")"
   ]
  },
  {
   "cell_type": "markdown",
   "id": "788159ed",
   "metadata": {},
   "source": [
    "### Display data set"
   ]
  },
  {
   "cell_type": "code",
   "execution_count": 2,
   "id": "d654e1a1",
   "metadata": {
    "scrolled": true
   },
   "outputs": [
    {
     "data": {
      "text/html": [
       "<table>\n",
       "<thead><tr><th scope=col>ï..Contribution_ID</th><th scope=col>ISOCode3</th><th scope=col>M49_Code</th><th scope=col>Contributing_Country</th><th scope=col>Mission_Acronym</th><th scope=col>Personnel_Type</th><th scope=col>Female_Personnel</th><th scope=col>Male_Personnel</th><th scope=col>Last_Reporting_Date</th></tr></thead>\n",
       "<tbody>\n",
       "\t<tr><td>427903            </td><td>DZA               </td><td>12                </td><td>Algeria           </td><td>MONUSCO           </td><td>Experts on Mission</td><td> 0                </td><td>  2               </td><td>31/07/2020        </td></tr>\n",
       "\t<tr><td>427904            </td><td>ARG               </td><td>32                </td><td>Argentina         </td><td>MINURSO           </td><td>Experts on Mission</td><td> 0                </td><td>  2               </td><td>31/07/2020        </td></tr>\n",
       "\t<tr><td>427905            </td><td>ARG               </td><td>32                </td><td>Argentina         </td><td>UNFICYP           </td><td>Troops            </td><td>15                </td><td>219               </td><td>31/07/2020        </td></tr>\n",
       "\t<tr><td>427906            </td><td>ARG               </td><td>32                </td><td>Argentina         </td><td>UNFICYP           </td><td>Staff Officer     </td><td> 3                </td><td>  6               </td><td>31/07/2020        </td></tr>\n",
       "\t<tr><td>427907            </td><td>ARG               </td><td>32                </td><td>Argentina         </td><td>UNMISS            </td><td>Individual Police </td><td> 1                </td><td>  5               </td><td>31/07/2020        </td></tr>\n",
       "\t<tr><td>427908            </td><td>ARG               </td><td>32                </td><td>Argentina         </td><td>UNTSO             </td><td>Experts on Mission</td><td> 0                </td><td>  4               </td><td>31/07/2020        </td></tr>\n",
       "</tbody>\n",
       "</table>\n"
      ],
      "text/latex": [
       "\\begin{tabular}{r|lllllllll}\n",
       " ï..Contribution\\_ID & ISOCode3 & M49\\_Code & Contributing\\_Country & Mission\\_Acronym & Personnel\\_Type & Female\\_Personnel & Male\\_Personnel & Last\\_Reporting\\_Date\\\\\n",
       "\\hline\n",
       "\t 427903             & DZA                & 12                 & Algeria            & MONUSCO            & Experts on Mission &  0                 &   2                & 31/07/2020        \\\\\n",
       "\t 427904             & ARG                & 32                 & Argentina          & MINURSO            & Experts on Mission &  0                 &   2                & 31/07/2020        \\\\\n",
       "\t 427905             & ARG                & 32                 & Argentina          & UNFICYP            & Troops             & 15                 & 219                & 31/07/2020        \\\\\n",
       "\t 427906             & ARG                & 32                 & Argentina          & UNFICYP            & Staff Officer      &  3                 &   6                & 31/07/2020        \\\\\n",
       "\t 427907             & ARG                & 32                 & Argentina          & UNMISS             & Individual Police  &  1                 &   5                & 31/07/2020        \\\\\n",
       "\t 427908             & ARG                & 32                 & Argentina          & UNTSO              & Experts on Mission &  0                 &   4                & 31/07/2020        \\\\\n",
       "\\end{tabular}\n"
      ],
      "text/markdown": [
       "\n",
       "| ï..Contribution_ID | ISOCode3 | M49_Code | Contributing_Country | Mission_Acronym | Personnel_Type | Female_Personnel | Male_Personnel | Last_Reporting_Date |\n",
       "|---|---|---|---|---|---|---|---|---|\n",
       "| 427903             | DZA                | 12                 | Algeria            | MONUSCO            | Experts on Mission |  0                 |   2                | 31/07/2020         |\n",
       "| 427904             | ARG                | 32                 | Argentina          | MINURSO            | Experts on Mission |  0                 |   2                | 31/07/2020         |\n",
       "| 427905             | ARG                | 32                 | Argentina          | UNFICYP            | Troops             | 15                 | 219                | 31/07/2020         |\n",
       "| 427906             | ARG                | 32                 | Argentina          | UNFICYP            | Staff Officer      |  3                 |   6                | 31/07/2020         |\n",
       "| 427907             | ARG                | 32                 | Argentina          | UNMISS             | Individual Police  |  1                 |   5                | 31/07/2020         |\n",
       "| 427908             | ARG                | 32                 | Argentina          | UNTSO              | Experts on Mission |  0                 |   4                | 31/07/2020         |\n",
       "\n"
      ],
      "text/plain": [
       "  ï..Contribution_ID ISOCode3 M49_Code Contributing_Country Mission_Acronym\n",
       "1 427903             DZA      12       Algeria              MONUSCO        \n",
       "2 427904             ARG      32       Argentina            MINURSO        \n",
       "3 427905             ARG      32       Argentina            UNFICYP        \n",
       "4 427906             ARG      32       Argentina            UNFICYP        \n",
       "5 427907             ARG      32       Argentina            UNMISS         \n",
       "6 427908             ARG      32       Argentina            UNTSO          \n",
       "  Personnel_Type     Female_Personnel Male_Personnel Last_Reporting_Date\n",
       "1 Experts on Mission  0                 2            31/07/2020         \n",
       "2 Experts on Mission  0                 2            31/07/2020         \n",
       "3 Troops             15               219            31/07/2020         \n",
       "4 Staff Officer       3                 6            31/07/2020         \n",
       "5 Individual Police   1                 5            31/07/2020         \n",
       "6 Experts on Mission  0                 4            31/07/2020         "
      ]
     },
     "metadata": {},
     "output_type": "display_data"
    }
   ],
   "source": [
    "head(df)"
   ]
  },
  {
   "cell_type": "markdown",
   "id": "fdcfd048",
   "metadata": {},
   "source": [
    "### Check each column for missing values and/or NAs and drop the observations that have them."
   ]
  },
  {
   "cell_type": "code",
   "execution_count": 3,
   "id": "2e890869",
   "metadata": {},
   "outputs": [
    {
     "data": {
      "text/html": [
       "<table>\n",
       "<thead><tr><th scope=col>ï..Contribution_ID</th><th scope=col>ISOCode3</th><th scope=col>M49_Code</th><th scope=col>Contributing_Country</th><th scope=col>Mission_Acronym</th><th scope=col>Personnel_Type</th><th scope=col>Female_Personnel</th><th scope=col>Male_Personnel</th><th scope=col>Last_Reporting_Date</th></tr></thead>\n",
       "<tbody>\n",
       "\t<tr><td>427903            </td><td>DZA               </td><td>12                </td><td>Algeria           </td><td>MONUSCO           </td><td>Experts on Mission</td><td> 0                </td><td>  2               </td><td>31/07/2020        </td></tr>\n",
       "\t<tr><td>427904            </td><td>ARG               </td><td>32                </td><td>Argentina         </td><td>MINURSO           </td><td>Experts on Mission</td><td> 0                </td><td>  2               </td><td>31/07/2020        </td></tr>\n",
       "\t<tr><td>427905            </td><td>ARG               </td><td>32                </td><td>Argentina         </td><td>UNFICYP           </td><td>Troops            </td><td>15                </td><td>219               </td><td>31/07/2020        </td></tr>\n",
       "\t<tr><td>427906            </td><td>ARG               </td><td>32                </td><td>Argentina         </td><td>UNFICYP           </td><td>Staff Officer     </td><td> 3                </td><td>  6               </td><td>31/07/2020        </td></tr>\n",
       "\t<tr><td>427907            </td><td>ARG               </td><td>32                </td><td>Argentina         </td><td>UNMISS            </td><td>Individual Police </td><td> 1                </td><td>  5               </td><td>31/07/2020        </td></tr>\n",
       "\t<tr><td>427908            </td><td>ARG               </td><td>32                </td><td>Argentina         </td><td>UNTSO             </td><td>Experts on Mission</td><td> 0                </td><td>  4               </td><td>31/07/2020        </td></tr>\n",
       "</tbody>\n",
       "</table>\n"
      ],
      "text/latex": [
       "\\begin{tabular}{r|lllllllll}\n",
       " ï..Contribution\\_ID & ISOCode3 & M49\\_Code & Contributing\\_Country & Mission\\_Acronym & Personnel\\_Type & Female\\_Personnel & Male\\_Personnel & Last\\_Reporting\\_Date\\\\\n",
       "\\hline\n",
       "\t 427903             & DZA                & 12                 & Algeria            & MONUSCO            & Experts on Mission &  0                 &   2                & 31/07/2020        \\\\\n",
       "\t 427904             & ARG                & 32                 & Argentina          & MINURSO            & Experts on Mission &  0                 &   2                & 31/07/2020        \\\\\n",
       "\t 427905             & ARG                & 32                 & Argentina          & UNFICYP            & Troops             & 15                 & 219                & 31/07/2020        \\\\\n",
       "\t 427906             & ARG                & 32                 & Argentina          & UNFICYP            & Staff Officer      &  3                 &   6                & 31/07/2020        \\\\\n",
       "\t 427907             & ARG                & 32                 & Argentina          & UNMISS             & Individual Police  &  1                 &   5                & 31/07/2020        \\\\\n",
       "\t 427908             & ARG                & 32                 & Argentina          & UNTSO              & Experts on Mission &  0                 &   4                & 31/07/2020        \\\\\n",
       "\\end{tabular}\n"
      ],
      "text/markdown": [
       "\n",
       "| ï..Contribution_ID | ISOCode3 | M49_Code | Contributing_Country | Mission_Acronym | Personnel_Type | Female_Personnel | Male_Personnel | Last_Reporting_Date |\n",
       "|---|---|---|---|---|---|---|---|---|\n",
       "| 427903             | DZA                | 12                 | Algeria            | MONUSCO            | Experts on Mission |  0                 |   2                | 31/07/2020         |\n",
       "| 427904             | ARG                | 32                 | Argentina          | MINURSO            | Experts on Mission |  0                 |   2                | 31/07/2020         |\n",
       "| 427905             | ARG                | 32                 | Argentina          | UNFICYP            | Troops             | 15                 | 219                | 31/07/2020         |\n",
       "| 427906             | ARG                | 32                 | Argentina          | UNFICYP            | Staff Officer      |  3                 |   6                | 31/07/2020         |\n",
       "| 427907             | ARG                | 32                 | Argentina          | UNMISS             | Individual Police  |  1                 |   5                | 31/07/2020         |\n",
       "| 427908             | ARG                | 32                 | Argentina          | UNTSO              | Experts on Mission |  0                 |   4                | 31/07/2020         |\n",
       "\n"
      ],
      "text/plain": [
       "  ï..Contribution_ID ISOCode3 M49_Code Contributing_Country Mission_Acronym\n",
       "1 427903             DZA      12       Algeria              MONUSCO        \n",
       "2 427904             ARG      32       Argentina            MINURSO        \n",
       "3 427905             ARG      32       Argentina            UNFICYP        \n",
       "4 427906             ARG      32       Argentina            UNFICYP        \n",
       "5 427907             ARG      32       Argentina            UNMISS         \n",
       "6 427908             ARG      32       Argentina            UNTSO          \n",
       "  Personnel_Type     Female_Personnel Male_Personnel Last_Reporting_Date\n",
       "1 Experts on Mission  0                 2            31/07/2020         \n",
       "2 Experts on Mission  0                 2            31/07/2020         \n",
       "3 Troops             15               219            31/07/2020         \n",
       "4 Staff Officer       3                 6            31/07/2020         \n",
       "5 Individual Police   1                 5            31/07/2020         \n",
       "6 Experts on Mission  0                 4            31/07/2020         "
      ]
     },
     "metadata": {},
     "output_type": "display_data"
    }
   ],
   "source": [
    "df = replace(df, df == \"\", NA)\n",
    "df = na.omit(df)\n",
    "head(df)"
   ]
  },
  {
   "cell_type": "markdown",
   "id": "11f713c8",
   "metadata": {},
   "source": [
    "### Change the object class of the column containing the dates to object of “class” = Date."
   ]
  },
  {
   "cell_type": "code",
   "execution_count": 4,
   "id": "fef6d18a",
   "metadata": {
    "scrolled": true
   },
   "outputs": [
    {
     "data": {
      "text/html": [
       "<table>\n",
       "<thead><tr><th scope=col>ï..Contribution_ID</th><th scope=col>ISOCode3</th><th scope=col>M49_Code</th><th scope=col>Contributing_Country</th><th scope=col>Mission_Acronym</th><th scope=col>Personnel_Type</th><th scope=col>Female_Personnel</th><th scope=col>Male_Personnel</th><th scope=col>Last_Reporting_Date</th></tr></thead>\n",
       "<tbody>\n",
       "\t<tr><td>427903            </td><td>DZA               </td><td>12                </td><td>Algeria           </td><td>MONUSCO           </td><td>Experts on Mission</td><td> 0                </td><td>  2               </td><td>2020-07-31        </td></tr>\n",
       "\t<tr><td>427904            </td><td>ARG               </td><td>32                </td><td>Argentina         </td><td>MINURSO           </td><td>Experts on Mission</td><td> 0                </td><td>  2               </td><td>2020-07-31        </td></tr>\n",
       "\t<tr><td>427905            </td><td>ARG               </td><td>32                </td><td>Argentina         </td><td>UNFICYP           </td><td>Troops            </td><td>15                </td><td>219               </td><td>2020-07-31        </td></tr>\n",
       "\t<tr><td>427906            </td><td>ARG               </td><td>32                </td><td>Argentina         </td><td>UNFICYP           </td><td>Staff Officer     </td><td> 3                </td><td>  6               </td><td>2020-07-31        </td></tr>\n",
       "\t<tr><td>427907            </td><td>ARG               </td><td>32                </td><td>Argentina         </td><td>UNMISS            </td><td>Individual Police </td><td> 1                </td><td>  5               </td><td>2020-07-31        </td></tr>\n",
       "\t<tr><td>427908            </td><td>ARG               </td><td>32                </td><td>Argentina         </td><td>UNTSO             </td><td>Experts on Mission</td><td> 0                </td><td>  4               </td><td>2020-07-31        </td></tr>\n",
       "</tbody>\n",
       "</table>\n"
      ],
      "text/latex": [
       "\\begin{tabular}{r|lllllllll}\n",
       " ï..Contribution\\_ID & ISOCode3 & M49\\_Code & Contributing\\_Country & Mission\\_Acronym & Personnel\\_Type & Female\\_Personnel & Male\\_Personnel & Last\\_Reporting\\_Date\\\\\n",
       "\\hline\n",
       "\t 427903             & DZA                & 12                 & Algeria            & MONUSCO            & Experts on Mission &  0                 &   2                & 2020-07-31        \\\\\n",
       "\t 427904             & ARG                & 32                 & Argentina          & MINURSO            & Experts on Mission &  0                 &   2                & 2020-07-31        \\\\\n",
       "\t 427905             & ARG                & 32                 & Argentina          & UNFICYP            & Troops             & 15                 & 219                & 2020-07-31        \\\\\n",
       "\t 427906             & ARG                & 32                 & Argentina          & UNFICYP            & Staff Officer      &  3                 &   6                & 2020-07-31        \\\\\n",
       "\t 427907             & ARG                & 32                 & Argentina          & UNMISS             & Individual Police  &  1                 &   5                & 2020-07-31        \\\\\n",
       "\t 427908             & ARG                & 32                 & Argentina          & UNTSO              & Experts on Mission &  0                 &   4                & 2020-07-31        \\\\\n",
       "\\end{tabular}\n"
      ],
      "text/markdown": [
       "\n",
       "| ï..Contribution_ID | ISOCode3 | M49_Code | Contributing_Country | Mission_Acronym | Personnel_Type | Female_Personnel | Male_Personnel | Last_Reporting_Date |\n",
       "|---|---|---|---|---|---|---|---|---|\n",
       "| 427903             | DZA                | 12                 | Algeria            | MONUSCO            | Experts on Mission |  0                 |   2                | 2020-07-31         |\n",
       "| 427904             | ARG                | 32                 | Argentina          | MINURSO            | Experts on Mission |  0                 |   2                | 2020-07-31         |\n",
       "| 427905             | ARG                | 32                 | Argentina          | UNFICYP            | Troops             | 15                 | 219                | 2020-07-31         |\n",
       "| 427906             | ARG                | 32                 | Argentina          | UNFICYP            | Staff Officer      |  3                 |   6                | 2020-07-31         |\n",
       "| 427907             | ARG                | 32                 | Argentina          | UNMISS             | Individual Police  |  1                 |   5                | 2020-07-31         |\n",
       "| 427908             | ARG                | 32                 | Argentina          | UNTSO              | Experts on Mission |  0                 |   4                | 2020-07-31         |\n",
       "\n"
      ],
      "text/plain": [
       "  ï..Contribution_ID ISOCode3 M49_Code Contributing_Country Mission_Acronym\n",
       "1 427903             DZA      12       Algeria              MONUSCO        \n",
       "2 427904             ARG      32       Argentina            MINURSO        \n",
       "3 427905             ARG      32       Argentina            UNFICYP        \n",
       "4 427906             ARG      32       Argentina            UNFICYP        \n",
       "5 427907             ARG      32       Argentina            UNMISS         \n",
       "6 427908             ARG      32       Argentina            UNTSO          \n",
       "  Personnel_Type     Female_Personnel Male_Personnel Last_Reporting_Date\n",
       "1 Experts on Mission  0                 2            2020-07-31         \n",
       "2 Experts on Mission  0                 2            2020-07-31         \n",
       "3 Troops             15               219            2020-07-31         \n",
       "4 Staff Officer       3                 6            2020-07-31         \n",
       "5 Individual Police   1                 5            2020-07-31         \n",
       "6 Experts on Mission  0                 4            2020-07-31         "
      ]
     },
     "metadata": {},
     "output_type": "display_data"
    }
   ],
   "source": [
    "dated = df\n",
    "dated$Last_Reporting_Date = as.Date(dated$Last_Reporting_Date,\"%d/%m/%Y\")\n",
    "head(dated)"
   ]
  },
  {
   "cell_type": "markdown",
   "id": "9ab99839",
   "metadata": {},
   "source": [
    "### Take a look at this infographic from the UN that outlines its goals to make its personnel more diverse:\n",
    "   https://peacekeeping.un.org/sites/default/files/uniformed_women_infographic_150520_updated.pdf\n",
    "\n",
    "It shows the percentage of women each personnel type should include by 2028 across all missions. \n",
    "Take a look at the % goal in the barplot entitled ‘WOMEN SERVING IN FORMED POLICE UNITS’ — 20%+ across all missions by 2028. \n",
    "\n",
    "Was that goal achieved for the March 2020? Explain, and in 1-2 sentences, please discuss the policy implications."
   ]
  },
  {
   "cell_type": "code",
   "execution_count": 43,
   "id": "901a284b",
   "metadata": {},
   "outputs": [
    {
     "data": {
      "text/html": [
       "'Target Percentage by March 2020'"
      ],
      "text/latex": [
       "'Target Percentage by March 2020'"
      ],
      "text/markdown": [
       "'Target Percentage by March 2020'"
      ],
      "text/plain": [
       "[1] \"Target Percentage by March 2020\""
      ]
     },
     "metadata": {},
     "output_type": "display_data"
    },
    {
     "name": "stdout",
     "output_type": "stream",
     "text": [
      "[1] \"11.82 %\"\n"
     ]
    },
    {
     "data": {
      "text/html": [
       "'Female Percentage In Formed Police Units For March 2020:'"
      ],
      "text/latex": [
       "'Female Percentage In Formed Police Units For March 2020:'"
      ],
      "text/markdown": [
       "'Female Percentage In Formed Police Units For March 2020:'"
      ],
      "text/plain": [
       "[1] \"Female Percentage In Formed Police Units For March 2020:\""
      ]
     },
     "metadata": {},
     "output_type": "display_data"
    },
    {
     "name": "stdout",
     "output_type": "stream",
     "text": [
      "[1] \"10.88 %\"\n"
     ]
    }
   ],
   "source": [
    "new = dated\n",
    "subset_march <- subset(new, new$Last_Reporting_Date == \"2020-03-31\")\n",
    "subset_policeunit <- subset(subset_march, subset_march$Personnel_Type == \"Formed Police Units\")\n",
    "#head(subset_policeunit)\n",
    "target = 10.8 + (20-10.8)/(2028-2019)\n",
    "female_total = sum(subset_policeunit$Female_Personnel)\n",
    "male_total = sum(subset_policeunit$Male_Personnel)\n",
    "total = female_total + male_total\n",
    "female_percentage = female_total/total * 100\n",
    "'Target Percentage by March 2020'\n",
    "print(paste(round(target, 2),'%'))\n",
    "'Female Percentage In Formed Police Units For March 2020:'\n",
    "print(paste(round(female_percentage,2),'%'))"
   ]
  },
  {
   "cell_type": "markdown",
   "id": "0ab48b60",
   "metadata": {},
   "source": [
    "### Policy Implication"
   ]
  },
  {
   "cell_type": "markdown",
   "id": "cb2fb2b6",
   "metadata": {},
   "source": [
    "The policy has not worked because as we can see that by March 2020, instead of it reaching the expected levels of 11.82% which is calculated based on the target expected growth rate over the course of 2019-2028, it is still at 10.88% which is a measly increase from the 2019 expectation of 10.8%. Thus, we can conclude that the policy has not worked and needs to be changed with there being greater incentives for countries to volunteer female personnel to these missions in order for these targets to be met. Moreover, the cause behind this could also be analyzed by country e.g. some countries might be going through tough times so need all their military personnel in the country or they could not have facilities to train female personnel. This cause should then be treated e.g. by giving funding to countries without facilities and handling issues with countries which have issues."
   ]
  },
  {
   "cell_type": "markdown",
   "id": "274416c1",
   "metadata": {},
   "source": [
    "### To drive the point home, replicate the bar plot from the previous step (the one entitled 'WOMEN SERVING IN FORMED POLICE UNITS'), but this time include the March 2020 percentage as a new bar on the chart. Do not worry too much about making the plots look the same aesthetically. "
   ]
  },
  {
   "cell_type": "code",
   "execution_count": 40,
   "id": "20d2edf6",
   "metadata": {
    "scrolled": false
   },
   "outputs": [
    {
     "data": {
      "image/png": "[encoded data removed]",
      "text/plain": [
       "plot without title"
      ]
     },
     "metadata": {},
     "output_type": "display_data"
    }
   ],
   "source": [
    "pd = data.frame(year=c(2017, 2018, 2019, 2020, 2028), percentages=c(7, 8, 10.8, 10.9, 20))\n",
    "library(ggplot2)\n",
    "plot = ggplot(pd, aes(x=year, y=percentages, fill=percentages)) + geom_bar(stat='identity') + theme_minimal()\n",
    "plot"
   ]
  },
  {
   "cell_type": "markdown",
   "id": "096a6e93",
   "metadata": {},
   "source": [
    "### Cleaning the Data to remove whitespaces"
   ]
  },
  {
   "cell_type": "code",
   "execution_count": 7,
   "id": "c72049e0",
   "metadata": {},
   "outputs": [],
   "source": [
    "df$Mission_Acronym <- trimws(df$Mission_Acronym, which = c(\"both\"))"
   ]
  },
  {
   "cell_type": "markdown",
   "id": "ffa7d21b",
   "metadata": {},
   "source": [
    "### Write a function that takes as input a country’s ISO code and returns (in any nice-looking format):\n",
    "(a) a list of all the unique missions that the country has sent personnel to for the whole timeline of the dataset \n",
    "\n",
    "\n",
    "(b) the number of unique missions that the country has sent personnel to for the whole timeline of the dataset "
   ]
  },
  {
   "cell_type": "code",
   "execution_count": 33,
   "id": "b04c5a94",
   "metadata": {},
   "outputs": [
    {
     "name": "stdout",
     "output_type": "stream",
     "text": [
      "[1] \"All unique missions this country has contributed to:\"\n",
      "[[1]]\n",
      " [1] \"MINURSO\"  \"MINUSCA\"  \"MINUSMA\"  \"MONUSCO\"  \"UNAMID\"   \"UNISFA\"  \n",
      " [7] \"UNMISS\"   \"UNSOM\"    \"UNMIL\"    \"UNOCI\"    \"MINUSTAH\" \"UNAMI\"   \n",
      "[13] \"UNMIT\"    \"UNSMIS\"   \"UNMIS\"    \"UNMIN\"    \"MINURCAT\" \"MONUC\"   \n",
      "[19] \"UNMIK\"    \"UNMISET\"  \"UNMIBH\"  \n",
      "\n",
      "[1] \"number of unique missions: 21\"\n"
     ]
    }
   ],
   "source": [
    "h = df\n",
    "namesandnumbers <- function(b) {\n",
    "    subset = h[h$ISOCode3==b,]\n",
    "    unique = unique(subset[c(\"Mission_Acronym\")])\n",
    "    unique_list <- list(unique$Mission_Acronym)\n",
    "    print(\"All unique missions this country has contributed to:\")\n",
    "    print(unique_list)\n",
    "    no <- length(unique_list[[1]])\n",
    "    print(paste(\"number of unique missions:\", no))\n",
    "}\n",
    "namesandnumbers(\"EGY\")"
   ]
  },
  {
   "cell_type": "markdown",
   "id": "5316cea7",
   "metadata": {},
   "source": [
    "### Create a loop that cycles through each of the Minerva rotation countries’ ISO codes and reports back the results of the function above. "
   ]
  },
  {
   "cell_type": "code",
   "execution_count": 38,
   "id": "c60d6057",
   "metadata": {},
   "outputs": [
    {
     "name": "stdout",
     "output_type": "stream",
     "text": [
      "[1] \"USA\"\n",
      "[1] \"All unique missions this country has contributed to:\"\n",
      "[[1]]\n",
      " [1] \"BINUH\"     \"MINUSCA\"   \"MINUSMA\"   \"MONUSCO\"   \"UNMISS\"    \"UNSMIL\"   \n",
      " [7] \"UNTSO\"     \"MINUJUSTH\" \"UNMIL\"     \"MINUSTAH\"  \"UNAMA\"     \"MINURCAT\" \n",
      "[13] \"UNMIS\"     \"UNMIK\"     \"UNIOSIL\"   \"UNAMID\"    \"UNMIT\"     \"UNOTIL\"   \n",
      "[19] \"UNAMSIL\"   \"UNMISET\"   \"UNIKOM\"    \"UNMEE\"     \"UNMIBH\"   \n",
      "\n",
      "[1] \"number of unique missions: 23\"\n",
      "[1] \"KOR\"\n",
      "[1] \"All unique missions this country has contributed to:\"\n",
      "[[1]]\n",
      " [1] \"MINURSO\"   \"UNAMID\"    \"UNIFIL\"    \"UNMISS\"    \"UNMOGIP\"   \"UNMHA\"    \n",
      " [7] \"MINUJUSTH\" \"UNMIL\"     \"UNOCI\"     \"MINUSTAH\"  \"UNMIT\"     \"UNISFA\"   \n",
      "[13] \"UNMIS\"     \"UNMIN\"     \"UNAMA\"     \"UNMISET\"   \"UNFICYP\"  \n",
      "\n",
      "[1] \"number of unique missions: 17\"\n",
      "[1] \"IND\"\n",
      "[1] \"All unique missions this country has contributed to:\"\n",
      "[[1]]\n",
      " [1] \"MINURSO\"   \"MONUSCO\"   \"UNDOF\"     \"UNFICYP\"   \"UNIFIL\"    \"UNISFA\"   \n",
      " [7] \"UNMISS\"    \"UNTSO\"     \"UNSOM\"     \"MINUJUSTH\" \"MINUSTAH\"  \"UNMIL\"    \n",
      "[13] \"UNAMA\"     \"UNOCI\"     \"UNAMI\"     \"UNMIT\"     \"UNMIS\"     \"MONUC\"    \n",
      "[19] \"UNMIK\"     \"UNIOSIL\"   \"UNMEE\"     \"ONUB\"      \"UNOMIG\"    \"UNAMSIL\"  \n",
      "[25] \"UNIKOM\"    \"UNMIBH\"   \n",
      "\n",
      "[1] \"number of unique missions: 26\"\n",
      "[1] \"DEU\"\n",
      "[1] \"All unique missions this country has contributed to:\"\n",
      "[[1]]\n",
      " [1] \"MINURSO\"   \"MINUSMA\"   \"UNAMID\"    \"UNIFIL\"    \"UNMIK\"     \"UNMISS\"   \n",
      " [7] \"UNSOM\"     \"UNMHA\"     \"MINUJUSTH\" \"UNSMIL\"    \"UNMIL\"     \"UNAMA\"    \n",
      "[13] \"MINUSTAH\"  \"UNMIS\"     \"UNOMIG\"    \"UNAMSIL\"   \"UNIKOM\"    \"UNMIBH\"   \n",
      "\n",
      "[1] \"number of unique missions: 18\"\n",
      "[1] \"ARG\"\n",
      "[1] \"All unique missions this country has contributed to:\"\n",
      "[[1]]\n",
      " [1] \"MINURSO\"   \"UNFICYP\"   \"UNMISS\"    \"UNTSO\"     \"UNVMC\"     \"MINUSCA\"  \n",
      " [7] \"MINUJUSTH\" \"UNAMI\"     \"MINUSTAH\"  \"UNMC\"      \"UNOCI\"     \"UNMIL\"    \n",
      "[13] \"UNMIS\"     \"MONUC\"     \"UNMIK\"     \"UNMISET\"   \"UNIKOM\"    \"UNIMOG\"   \n",
      "[19] \"UNMIBH\"   \n",
      "\n",
      "[1] \"number of unique missions: 19\"\n",
      "[1] \"GBR\"\n",
      "[1] \"All unique missions this country has contributed to:\"\n",
      "[[1]]\n",
      " [1] \"MINUSMA\"  \"UNAMA\"    \"UNFICYP\"  \"UNMISS\"   \"UNSMIL\"   \"UNSOM\"   \n",
      " [7] \"UNSOS\"    \"MONUSCO\"  \"UNVMC\"    \"UNMC\"     \"UNMIL\"    \"MINUSTAH\"\n",
      "[13] \"UNAMI\"    \"UNISFA\"   \"UNMIS\"    \"MONUC\"    \"UNAMID\"   \"UNMIK\"   \n",
      "[19] \"UNMEE\"    \"UNIOSIL\"  \"UNAMSIL\"  \"UNMISET\"  \"UNIKOM\"   \"UNMIBH\"  \n",
      "\n",
      "[1] \"number of unique missions: 24\"\n"
     ]
    }
   ],
   "source": [
    "Minerva_countries <- list(\"USA\", \"KOR\", \"IND\", \"DEU\", \"ARG\", \"GBR\")\n",
    "for (i in Minerva_countries) {\n",
    "    print(i)\n",
    "    namesandnumbers(i)\n",
    "}"
   ]
  },
  {
   "cell_type": "markdown",
   "id": "4bcf06e9",
   "metadata": {},
   "source": [
    "### Conclusion"
   ]
  },
  {
   "cell_type": "markdown",
   "id": "d5b25fe9",
   "metadata": {},
   "source": [
    "In conclusion, we see that the countries with the most trained and biggest armies contribute the most to these peacekeeping missions e.g. India, Great Britian, and the US. However, countries like Rwanda and many other countries which do not have facilities or are third-world countries do not contribute to these missions probably because they do not have facilities to train female personnel or in the case of Rwanda, are in the middle of a war.\n",
    "\n",
    "Moreover, due to the Covid-19 pandemic, the growth has also slowed down as many countries are making use of their military personnel in order to ensure quarantine and avoid unrest in the country in times of despair.\n",
    "\n",
    "A good policy could be to do several case studies on the countries with the lowest contribution percentages and find out the root causes and handle it on a case to case basis e.g. providing funding for countries that do not have facilities to train female personnel or if a country is going through tough times like civil war or territorial dispute, handle the issue at an international level in order to meet the expectations as soon as possible."
   ]
  }
 ],
 "metadata": {
  "kernelspec": {
   "display_name": "R",
   "language": "R",
   "name": "ir"
  },
  "language_info": {
   "codemirror_mode": "r",
   "file_extension": ".r",
   "mimetype": "text/x-r-source",
   "name": "R",
   "pygments_lexer": "r",
   "version": "3.6.1"
  }
 },
 "nbformat": 4,
 "nbformat_minor": 5
}
